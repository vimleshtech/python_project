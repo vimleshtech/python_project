{
 "cells": [
  {
   "cell_type": "code",
   "execution_count": 1,
   "metadata": {},
   "outputs": [],
   "source": [
    "import pandas as pd\n",
    "import numpy as np\n",
    "import matplotlib.pyplot as plt\n",
    "import seaborn as sns\n",
    "import re"
   ]
  },
  {
   "cell_type": "code",
   "execution_count": 2,
   "metadata": {
    "scrolled": true
   },
   "outputs": [
    {
     "name": "stderr",
     "output_type": "stream",
     "text": [
      "C:\\Users\\125482\\AppData\\Local\\Continuum\\anaconda3\\lib\\site-packages\\ipykernel_launcher.py:1: ParserWarning: Falling back to the 'python' engine because the 'c' engine does not support regex separators (separators > 1 char and different from '\\s+' are interpreted as regex); you can avoid this warning by specifying engine='python'.\n",
      "  \"\"\"Entry point for launching an IPython kernel.\n",
      "C:\\Users\\125482\\AppData\\Local\\Continuum\\anaconda3\\lib\\site-packages\\ipykernel_launcher.py:2: ParserWarning: Falling back to the 'python' engine because the 'c' engine does not support regex separators (separators > 1 char and different from '\\s+' are interpreted as regex); you can avoid this warning by specifying engine='python'.\n",
      "  \n",
      "C:\\Users\\125482\\AppData\\Local\\Continuum\\anaconda3\\lib\\site-packages\\ipykernel_launcher.py:3: ParserWarning: Falling back to the 'python' engine because the 'c' engine does not support regex separators (separators > 1 char and different from '\\s+' are interpreted as regex); you can avoid this warning by specifying engine='python'.\n",
      "  This is separate from the ipykernel package so we can avoid doing imports until\n"
     ]
    }
   ],
   "source": [
    "movie = pd.read_table(r'C:\\Users\\125482\\Desktop\\Movie ratings project\\movies.dat',sep = \"::\", names = ['MovieID','Movie','Genre'])\n",
    "rating = pd.read_table(r'C:\\Users\\125482\\Desktop\\Movie ratings project\\ratings.dat',sep = \"::\", names = ['UserID', 'MovieID', 'Rating', 'TimeStamp'])\n",
    "user = pd.read_table(r'C:\\Users\\125482\\Desktop\\Movie ratings project\\users.dat',sep = \"::\", names = ['UserID', 'Gender', 'Age', 'Occupation', 'ZipCode'])"
   ]
  },
  {
   "cell_type": "code",
   "execution_count": 3,
   "metadata": {},
   "outputs": [
    {
     "data": {
      "text/html": [
       "<div>\n",
       "<style scoped>\n",
       "    .dataframe tbody tr th:only-of-type {\n",
       "        vertical-align: middle;\n",
       "    }\n",
       "\n",
       "    .dataframe tbody tr th {\n",
       "        vertical-align: top;\n",
       "    }\n",
       "\n",
       "    .dataframe thead th {\n",
       "        text-align: right;\n",
       "    }\n",
       "</style>\n",
       "<table border=\"1\" class=\"dataframe\">\n",
       "  <thead>\n",
       "    <tr style=\"text-align: right;\">\n",
       "      <th></th>\n",
       "      <th>UserID</th>\n",
       "      <th>MovieID</th>\n",
       "      <th>Rating</th>\n",
       "      <th>TimeStamp</th>\n",
       "    </tr>\n",
       "  </thead>\n",
       "  <tbody>\n",
       "    <tr>\n",
       "      <th>0</th>\n",
       "      <td>1</td>\n",
       "      <td>1193</td>\n",
       "      <td>5</td>\n",
       "      <td>978300760</td>\n",
       "    </tr>\n",
       "    <tr>\n",
       "      <th>1</th>\n",
       "      <td>1</td>\n",
       "      <td>661</td>\n",
       "      <td>3</td>\n",
       "      <td>978302109</td>\n",
       "    </tr>\n",
       "    <tr>\n",
       "      <th>2</th>\n",
       "      <td>1</td>\n",
       "      <td>914</td>\n",
       "      <td>3</td>\n",
       "      <td>978301968</td>\n",
       "    </tr>\n",
       "    <tr>\n",
       "      <th>3</th>\n",
       "      <td>1</td>\n",
       "      <td>3408</td>\n",
       "      <td>4</td>\n",
       "      <td>978300275</td>\n",
       "    </tr>\n",
       "    <tr>\n",
       "      <th>4</th>\n",
       "      <td>1</td>\n",
       "      <td>2355</td>\n",
       "      <td>5</td>\n",
       "      <td>978824291</td>\n",
       "    </tr>\n",
       "  </tbody>\n",
       "</table>\n",
       "</div>"
      ],
      "text/plain": [
       "   UserID  MovieID  Rating  TimeStamp\n",
       "0       1     1193       5  978300760\n",
       "1       1      661       3  978302109\n",
       "2       1      914       3  978301968\n",
       "3       1     3408       4  978300275\n",
       "4       1     2355       5  978824291"
      ]
     },
     "execution_count": 3,
     "metadata": {},
     "output_type": "execute_result"
    }
   ],
   "source": [
    "# CHECK DATA\n",
    "user.head()\n",
    "movie.head()\n",
    "rating.head()"
   ]
  },
  {
   "cell_type": "code",
   "execution_count": 4,
   "metadata": {},
   "outputs": [
    {
     "data": {
      "text/html": [
       "<div>\n",
       "<style scoped>\n",
       "    .dataframe tbody tr th:only-of-type {\n",
       "        vertical-align: middle;\n",
       "    }\n",
       "\n",
       "    .dataframe tbody tr th {\n",
       "        vertical-align: top;\n",
       "    }\n",
       "\n",
       "    .dataframe thead th {\n",
       "        text-align: right;\n",
       "    }\n",
       "</style>\n",
       "<table border=\"1\" class=\"dataframe\">\n",
       "  <thead>\n",
       "    <tr style=\"text-align: right;\">\n",
       "      <th></th>\n",
       "      <th>UserID</th>\n",
       "      <th>MovieID</th>\n",
       "      <th>Rating</th>\n",
       "      <th>Movie</th>\n",
       "      <th>Genre</th>\n",
       "      <th>Gender</th>\n",
       "      <th>Age</th>\n",
       "      <th>Occupation</th>\n",
       "      <th>ZipCode</th>\n",
       "    </tr>\n",
       "  </thead>\n",
       "  <tbody>\n",
       "    <tr>\n",
       "      <th>0</th>\n",
       "      <td>1</td>\n",
       "      <td>1193</td>\n",
       "      <td>5</td>\n",
       "      <td>One Flew Over the Cuckoo's Nest (1975)</td>\n",
       "      <td>Drama</td>\n",
       "      <td>F</td>\n",
       "      <td>1</td>\n",
       "      <td>10</td>\n",
       "      <td>48067</td>\n",
       "    </tr>\n",
       "    <tr>\n",
       "      <th>1</th>\n",
       "      <td>1</td>\n",
       "      <td>661</td>\n",
       "      <td>3</td>\n",
       "      <td>James and the Giant Peach (1996)</td>\n",
       "      <td>Animation|Children's|Musical</td>\n",
       "      <td>F</td>\n",
       "      <td>1</td>\n",
       "      <td>10</td>\n",
       "      <td>48067</td>\n",
       "    </tr>\n",
       "    <tr>\n",
       "      <th>2</th>\n",
       "      <td>1</td>\n",
       "      <td>914</td>\n",
       "      <td>3</td>\n",
       "      <td>My Fair Lady (1964)</td>\n",
       "      <td>Musical|Romance</td>\n",
       "      <td>F</td>\n",
       "      <td>1</td>\n",
       "      <td>10</td>\n",
       "      <td>48067</td>\n",
       "    </tr>\n",
       "    <tr>\n",
       "      <th>3</th>\n",
       "      <td>1</td>\n",
       "      <td>3408</td>\n",
       "      <td>4</td>\n",
       "      <td>Erin Brockovich (2000)</td>\n",
       "      <td>Drama</td>\n",
       "      <td>F</td>\n",
       "      <td>1</td>\n",
       "      <td>10</td>\n",
       "      <td>48067</td>\n",
       "    </tr>\n",
       "    <tr>\n",
       "      <th>4</th>\n",
       "      <td>1</td>\n",
       "      <td>2355</td>\n",
       "      <td>5</td>\n",
       "      <td>Bug's Life, A (1998)</td>\n",
       "      <td>Animation|Children's|Comedy</td>\n",
       "      <td>F</td>\n",
       "      <td>1</td>\n",
       "      <td>10</td>\n",
       "      <td>48067</td>\n",
       "    </tr>\n",
       "  </tbody>\n",
       "</table>\n",
       "</div>"
      ],
      "text/plain": [
       "   UserID  MovieID  Rating                                   Movie  \\\n",
       "0       1     1193       5  One Flew Over the Cuckoo's Nest (1975)   \n",
       "1       1      661       3        James and the Giant Peach (1996)   \n",
       "2       1      914       3                     My Fair Lady (1964)   \n",
       "3       1     3408       4                  Erin Brockovich (2000)   \n",
       "4       1     2355       5                    Bug's Life, A (1998)   \n",
       "\n",
       "                          Genre Gender  Age  Occupation ZipCode  \n",
       "0                         Drama      F    1          10   48067  \n",
       "1  Animation|Children's|Musical      F    1          10   48067  \n",
       "2               Musical|Romance      F    1          10   48067  \n",
       "3                         Drama      F    1          10   48067  \n",
       "4   Animation|Children's|Comedy      F    1          10   48067  "
      ]
     },
     "execution_count": 4,
     "metadata": {},
     "output_type": "execute_result"
    }
   ],
   "source": [
    "# JOIN THE 3 DATASETS\n",
    "rm = rating.join(movie.set_index('MovieID'), on='MovieID', how='left', lsuffix='l').drop('TimeStamp', axis=1)\n",
    "rum = rm.join(user.set_index('UserID'), on='UserID', how='left')\n",
    "rum.head()"
   ]
  },
  {
   "cell_type": "code",
   "execution_count": 5,
   "metadata": {},
   "outputs": [
    {
     "data": {
      "text/plain": [
       "UserID        0\n",
       "MovieID       0\n",
       "Rating        0\n",
       "Movie         0\n",
       "Genre         0\n",
       "Gender        0\n",
       "Age           0\n",
       "Occupation    0\n",
       "ZipCode       0\n",
       "dtype: int64"
      ]
     },
     "execution_count": 5,
     "metadata": {},
     "output_type": "execute_result"
    }
   ],
   "source": [
    "rum.isna().sum()     # NO NULL VALUES FOUND"
   ]
  },
  {
   "cell_type": "code",
   "execution_count": 6,
   "metadata": {},
   "outputs": [
    {
     "name": "stdout",
     "output_type": "stream",
     "text": [
      "6040\n",
      "3883\n"
     ]
    }
   ],
   "source": [
    "print(user['UserID'].count())     #6040 UNIQUE USERS\n",
    "print(movie['MovieID'].count())   #3883 UNIQUE MOVIES"
   ]
  },
  {
   "cell_type": "code",
   "execution_count": 7,
   "metadata": {},
   "outputs": [
    {
     "data": {
      "text/html": [
       "<div>\n",
       "<style scoped>\n",
       "    .dataframe tbody tr th:only-of-type {\n",
       "        vertical-align: middle;\n",
       "    }\n",
       "\n",
       "    .dataframe tbody tr th {\n",
       "        vertical-align: top;\n",
       "    }\n",
       "\n",
       "    .dataframe thead th {\n",
       "        text-align: right;\n",
       "    }\n",
       "</style>\n",
       "<table border=\"1\" class=\"dataframe\">\n",
       "  <thead>\n",
       "    <tr style=\"text-align: right;\">\n",
       "      <th></th>\n",
       "      <th>UserID</th>\n",
       "      <th>MovieID</th>\n",
       "      <th>Rating</th>\n",
       "      <th>Movie</th>\n",
       "      <th>Genre</th>\n",
       "      <th>Gender</th>\n",
       "      <th>Age</th>\n",
       "      <th>Occupation</th>\n",
       "      <th>ZipCode</th>\n",
       "      <th>OccupationType</th>\n",
       "      <th>AgeGroup</th>\n",
       "    </tr>\n",
       "  </thead>\n",
       "  <tbody>\n",
       "    <tr>\n",
       "      <th>0</th>\n",
       "      <td>1</td>\n",
       "      <td>1193</td>\n",
       "      <td>5</td>\n",
       "      <td>One Flew Over the Cuckoo's Nest (1975)</td>\n",
       "      <td>Drama</td>\n",
       "      <td>F</td>\n",
       "      <td>1</td>\n",
       "      <td>10</td>\n",
       "      <td>48067</td>\n",
       "      <td>K-12 Student</td>\n",
       "      <td>Under 18</td>\n",
       "    </tr>\n",
       "    <tr>\n",
       "      <th>1</th>\n",
       "      <td>1</td>\n",
       "      <td>661</td>\n",
       "      <td>3</td>\n",
       "      <td>James and the Giant Peach (1996)</td>\n",
       "      <td>Animation|Children's|Musical</td>\n",
       "      <td>F</td>\n",
       "      <td>1</td>\n",
       "      <td>10</td>\n",
       "      <td>48067</td>\n",
       "      <td>K-12 Student</td>\n",
       "      <td>Under 18</td>\n",
       "    </tr>\n",
       "  </tbody>\n",
       "</table>\n",
       "</div>"
      ],
      "text/plain": [
       "   UserID  MovieID  Rating                                   Movie  \\\n",
       "0       1     1193       5  One Flew Over the Cuckoo's Nest (1975)   \n",
       "1       1      661       3        James and the Giant Peach (1996)   \n",
       "\n",
       "                          Genre Gender  Age  Occupation ZipCode  \\\n",
       "0                         Drama      F    1          10   48067   \n",
       "1  Animation|Children's|Musical      F    1          10   48067   \n",
       "\n",
       "  OccupationType  AgeGroup  \n",
       "0   K-12 Student  Under 18  \n",
       "1   K-12 Student  Under 18  "
      ]
     },
     "execution_count": 7,
     "metadata": {},
     "output_type": "execute_result"
    }
   ],
   "source": [
    "# ADD \"OCCUPATION TYPE\" AND \"ACTUAL AGE\" COLUMNS (BY CREATING DICTIONARY)\n",
    "\n",
    "dict = {'Occupation':[0, 1, 2, 3, 4, 5, 6, 7, 8, 9, 10, 11, 12, 13, 14, 15, 16, 17, 18, 19, 20], 'OccupationType':['Other or not specified', 'Academic/Educator', 'Artist', 'Clerical/Admin', 'College/grad student', 'Customer service', 'Doctor/Health care', 'Executive/Managerial', 'Farmer', 'Homemaker', 'K-12 Student', 'Lawyer', 'Programmer', 'Retired', 'Sales/Marketing', 'Scientist', 'Self-Employed', 'Technician/Engineer', 'Tradesman/Craftsman', 'Unemployed', 'Writer']}\n",
    "occ = pd.DataFrame(dict)\n",
    "rum1 = rum.join(occ.set_index('Occupation'), on = 'Occupation', how = 'left')\n",
    "\n",
    "dict = {'Age':[1, 18, 25, 35, 45, 50, 56], 'AgeGroup':['Under 18', '18-24', '25-34', '35-44', '45-49', '50-55', '56+']}\n",
    "age = pd.DataFrame(dict)\n",
    "rum2 = rum1.join(age.set_index('Age'), on = 'Age', how = 'left')\n",
    "rum2.head(2)"
   ]
  },
  {
   "cell_type": "code",
   "execution_count": 8,
   "metadata": {},
   "outputs": [],
   "source": [
    "a = rum2.groupby('Movie')['MovieID'].count().sort_values(ascending=False)"
   ]
  },
  {
   "cell_type": "code",
   "execution_count": 9,
   "metadata": {},
   "outputs": [
    {
     "data": {
      "text/plain": [
       "Gender\n",
       "F    246440\n",
       "M    753769\n",
       "Name: Rating, dtype: int64"
      ]
     },
     "execution_count": 9,
     "metadata": {},
     "output_type": "execute_result"
    }
   ],
   "source": [
    "rum2.groupby('Gender')['Rating'].count()"
   ]
  },
  {
   "cell_type": "code",
   "execution_count": 10,
   "metadata": {},
   "outputs": [
    {
     "data": {
      "text/plain": [
       "Gender\n",
       "F    3.620366\n",
       "M    3.568879\n",
       "Name: Rating, dtype: float64"
      ]
     },
     "execution_count": 10,
     "metadata": {},
     "output_type": "execute_result"
    }
   ],
   "source": [
    "rum2.groupby('Gender')['Rating'].mean()"
   ]
  },
  {
   "cell_type": "code",
   "execution_count": 12,
   "metadata": {},
   "outputs": [
    {
     "name": "stderr",
     "output_type": "stream",
     "text": [
      "C:\\Users\\125482\\AppData\\Local\\Continuum\\anaconda3\\lib\\site-packages\\scipy\\stats\\stats.py:1713: FutureWarning: Using a non-tuple sequence for multidimensional indexing is deprecated; use `arr[tuple(seq)]` instead of `arr[seq]`. In the future this will be interpreted as an array index, `arr[np.array(seq)]`, which will result either in an error or a different result.\n",
      "  return np.add.reduce(sorted[indexer] * weights, axis=axis) / sumval\n"
     ]
    },
    {
     "data": {
      "text/plain": [
       "<matplotlib.axes._subplots.AxesSubplot at 0x1b107a8b710>"
      ]
     },
     "execution_count": 12,
     "metadata": {},
     "output_type": "execute_result"
    },
    {
     "data": {
      "image/png": "[encoded data removed]",
      "text/plain": [
       "<Figure size 432x288 with 1 Axes>"
      ]
     },
     "metadata": {
      "needs_background": "light"
     },
     "output_type": "display_data"
    }
   ],
   "source": [
    "sns.barplot(x=rum2['AgeGroup'], y=rum2['Rating'])"
   ]
  },
  {
   "cell_type": "code",
   "execution_count": 14,
   "metadata": {},
   "outputs": [
    {
     "data": {
      "text/plain": [
       "<matplotlib.axes._subplots.AxesSubplot at 0x1b107ac9a90>"
      ]
     },
     "execution_count": 14,
     "metadata": {},
     "output_type": "execute_result"
    },
    {
     "data": {
      "image/png": "[encoded data removed]",
      "text/plain": [
       "<Figure size 432x288 with 1 Axes>"
      ]
     },
     "metadata": {
      "needs_background": "light"
     },
     "output_type": "display_data"
    }
   ],
   "source": [
    "sns.barplot(x=rum2['Gender'], y=rum2['Rating'])"
   ]
  },
  {
   "cell_type": "code",
   "execution_count": 25,
   "metadata": {},
   "outputs": [
    {
     "data": {
      "text/plain": [
       "<matplotlib.axes._subplots.AxesSubplot at 0x2cd992edb00>"
      ]
     },
     "execution_count": 25,
     "metadata": {},
     "output_type": "execute_result"
    },
    {
     "data": {
      "image/png": "[encoded data removed]",
      "text/plain": [
       "<Figure size 432x288 with 1 Axes>"
      ]
     },
     "metadata": {
      "needs_background": "light"
     },
     "output_type": "display_data"
    }
   ],
   "source": [
    "sns.boxplot(x=rum2['AgeGroup'], y=rum2['Rating'])"
   ]
  },
  {
   "cell_type": "code",
   "execution_count": 15,
   "metadata": {},
   "outputs": [
    {
     "data": {
      "text/plain": [
       "<matplotlib.axes._subplots.AxesSubplot at 0x2cdc5a54358>"
      ]
     },
     "execution_count": 15,
     "metadata": {},
     "output_type": "execute_result"
    },
    {
     "data": {
      "image/png": "[encoded data removed]",
      "text/plain": [
       "<Figure size 432x288 with 2 Axes>"
      ]
     },
     "metadata": {
      "needs_background": "light"
     },
     "output_type": "display_data"
    }
   ],
   "source": [
    "sns.heatmap(rum2.isna())     # NO NULL VALUES"
   ]
  },
  {
   "cell_type": "code",
   "execution_count": 15,
   "metadata": {},
   "outputs": [
    {
     "data": {
      "text/html": [
       "<div>\n",
       "<style scoped>\n",
       "    .dataframe tbody tr th:only-of-type {\n",
       "        vertical-align: middle;\n",
       "    }\n",
       "\n",
       "    .dataframe tbody tr th {\n",
       "        vertical-align: top;\n",
       "    }\n",
       "\n",
       "    .dataframe thead th {\n",
       "        text-align: right;\n",
       "    }\n",
       "</style>\n",
       "<table border=\"1\" class=\"dataframe\">\n",
       "  <thead>\n",
       "    <tr style=\"text-align: right;\">\n",
       "      <th></th>\n",
       "      <th>Rating</th>\n",
       "      <th>Count</th>\n",
       "    </tr>\n",
       "    <tr>\n",
       "      <th>Movie</th>\n",
       "      <th></th>\n",
       "      <th></th>\n",
       "    </tr>\n",
       "  </thead>\n",
       "  <tbody>\n",
       "    <tr>\n",
       "      <th>Shawshank Redemption, The (1994)</th>\n",
       "      <td>4.554558</td>\n",
       "      <td>2227</td>\n",
       "    </tr>\n",
       "    <tr>\n",
       "      <th>Godfather, The (1972)</th>\n",
       "      <td>4.524966</td>\n",
       "      <td>2223</td>\n",
       "    </tr>\n",
       "    <tr>\n",
       "      <th>Usual Suspects, The (1995)</th>\n",
       "      <td>4.517106</td>\n",
       "      <td>1783</td>\n",
       "    </tr>\n",
       "    <tr>\n",
       "      <th>Schindler's List (1993)</th>\n",
       "      <td>4.510417</td>\n",
       "      <td>2304</td>\n",
       "    </tr>\n",
       "    <tr>\n",
       "      <th>Raiders of the Lost Ark (1981)</th>\n",
       "      <td>4.477725</td>\n",
       "      <td>2514</td>\n",
       "    </tr>\n",
       "    <tr>\n",
       "      <th>Rear Window (1954)</th>\n",
       "      <td>4.476190</td>\n",
       "      <td>1050</td>\n",
       "    </tr>\n",
       "    <tr>\n",
       "      <th>Star Wars: Episode IV - A New Hope (1977)</th>\n",
       "      <td>4.453694</td>\n",
       "      <td>2991</td>\n",
       "    </tr>\n",
       "    <tr>\n",
       "      <th>Dr. Strangelove or: How I Learned to Stop Worrying and Love the Bomb (1963)</th>\n",
       "      <td>4.449890</td>\n",
       "      <td>1367</td>\n",
       "    </tr>\n",
       "    <tr>\n",
       "      <th>Casablanca (1942)</th>\n",
       "      <td>4.412822</td>\n",
       "      <td>1669</td>\n",
       "    </tr>\n",
       "    <tr>\n",
       "      <th>Sixth Sense, The (1999)</th>\n",
       "      <td>4.406263</td>\n",
       "      <td>2459</td>\n",
       "    </tr>\n",
       "  </tbody>\n",
       "</table>\n",
       "</div>"
      ],
      "text/plain": [
       "                                                      Rating  Count\n",
       "Movie                                                              \n",
       "Shawshank Redemption, The (1994)                    4.554558   2227\n",
       "Godfather, The (1972)                               4.524966   2223\n",
       "Usual Suspects, The (1995)                          4.517106   1783\n",
       "Schindler's List (1993)                             4.510417   2304\n",
       "Raiders of the Lost Ark (1981)                      4.477725   2514\n",
       "Rear Window (1954)                                  4.476190   1050\n",
       "Star Wars: Episode IV - A New Hope (1977)           4.453694   2991\n",
       "Dr. Strangelove or: How I Learned to Stop Worry...  4.449890   1367\n",
       "Casablanca (1942)                                   4.412822   1669\n",
       "Sixth Sense, The (1999)                             4.406263   2459"
      ]
     },
     "execution_count": 15,
     "metadata": {},
     "output_type": "execute_result"
    }
   ],
   "source": [
    "# RECOMMENDING TOP 20 MOVIES TO NEW USERS (WHO HAVEN'T SELECTED ANY MOVIE YET)\n",
    "\n",
    "Ratings = pd.DataFrame(rum2.groupby('Movie')['Rating'].mean())\n",
    "Ratings['Count'] = pd.DataFrame(rum2.groupby('Movie')['Rating'].count())\n",
    "Ratings.loc[Ratings['Count']>1000].sort_values(by='Rating', ascending=False).head(10)"
   ]
  },
  {
   "cell_type": "code",
   "execution_count": 16,
   "metadata": {},
   "outputs": [],
   "source": [
    "mat = rum2.pivot_table(index = 'UserID', columns = 'Movie', values = 'Rating')   #ARRANGING MOVIES IN COLUMNS"
   ]
  },
  {
   "cell_type": "code",
   "execution_count": 17,
   "metadata": {},
   "outputs": [
    {
     "name": "stderr",
     "output_type": "stream",
     "text": [
      "C:\\Users\\125482\\AppData\\Local\\Continuum\\anaconda3\\lib\\site-packages\\numpy\\lib\\function_base.py:2392: RuntimeWarning: Degrees of freedom <= 0 for slice\n",
      "  c = cov(x, y, rowvar)\n",
      "C:\\Users\\125482\\AppData\\Local\\Continuum\\anaconda3\\lib\\site-packages\\numpy\\lib\\function_base.py:2326: RuntimeWarning: divide by zero encountered in true_divide\n",
      "  c *= np.true_divide(1, fact)\n"
     ]
    },
    {
     "data": {
      "text/html": [
       "<div>\n",
       "<style scoped>\n",
       "    .dataframe tbody tr th:only-of-type {\n",
       "        vertical-align: middle;\n",
       "    }\n",
       "\n",
       "    .dataframe tbody tr th {\n",
       "        vertical-align: top;\n",
       "    }\n",
       "\n",
       "    .dataframe thead th {\n",
       "        text-align: right;\n",
       "    }\n",
       "</style>\n",
       "<table border=\"1\" class=\"dataframe\">\n",
       "  <thead>\n",
       "    <tr style=\"text-align: right;\">\n",
       "      <th></th>\n",
       "      <th>Correlation</th>\n",
       "      <th>Count</th>\n",
       "    </tr>\n",
       "    <tr>\n",
       "      <th>Movie</th>\n",
       "      <th></th>\n",
       "      <th></th>\n",
       "    </tr>\n",
       "  </thead>\n",
       "  <tbody>\n",
       "    <tr>\n",
       "      <th>2001: A Space Odyssey (1968)</th>\n",
       "      <td>1.0</td>\n",
       "      <td>1716</td>\n",
       "    </tr>\n",
       "    <tr>\n",
       "      <th>Gone with the Wind (1939)</th>\n",
       "      <td>1.0</td>\n",
       "      <td>1156</td>\n",
       "    </tr>\n",
       "  </tbody>\n",
       "</table>\n",
       "</div>"
      ],
      "text/plain": [
       "                              Correlation  Count\n",
       "Movie                                           \n",
       "2001: A Space Odyssey (1968)          1.0   1716\n",
       "Gone with the Wind (1939)             1.0   1156"
      ]
     },
     "execution_count": 17,
     "metadata": {},
     "output_type": "execute_result"
    }
   ],
   "source": [
    "# FUNCTION TO RECOMMEND MAX 20 MOVIES TO THE USER WITH MAXIMUM CORRELATION TO THE MOVIE IN QUESTION\n",
    "\n",
    "def recommend (m):\n",
    "    rat = mat[m]                                                     # pull respective movie ratings\n",
    "    rat_corr = mat.corrwith(rat)                                     # calculating correlation of that movie with all others\n",
    "    rat_corr_df = pd.DataFrame(rat_corr, columns = ['Correlation'])  # convert the above matrix in a dataframe\n",
    "    rat_corr_df.dropna(inplace=True)                                 # drop na from the result (movies rarely having rating)\n",
    "    rat_corr_df = rat_corr_df.join(Ratings['Count'])                 # Join ratings count\n",
    "    res = rat_corr_df[rat_corr_df['Count']>500]                      # filter out movies with less than 500 ratings\n",
    "    res = res.sort_values(by = 'Correlation', ascending = False)     # sort result by correlation descending\n",
    "    return res.head(20)\n",
    "\n",
    "recommend(\"1-900 (1994)\")"
   ]
  },
  {
   "cell_type": "code",
   "execution_count": 18,
   "metadata": {},
   "outputs": [
    {
     "data": {
      "text/html": [
       "<div>\n",
       "<style scoped>\n",
       "    .dataframe tbody tr th:only-of-type {\n",
       "        vertical-align: middle;\n",
       "    }\n",
       "\n",
       "    .dataframe tbody tr th {\n",
       "        vertical-align: top;\n",
       "    }\n",
       "\n",
       "    .dataframe thead th {\n",
       "        text-align: right;\n",
       "    }\n",
       "</style>\n",
       "<table border=\"1\" class=\"dataframe\">\n",
       "  <thead>\n",
       "    <tr style=\"text-align: right;\">\n",
       "      <th></th>\n",
       "      <th>Movie</th>\n",
       "      <th>AgeGroup</th>\n",
       "      <th>MovieID</th>\n",
       "      <th>Genre</th>\n",
       "      <th>Animation</th>\n",
       "      <th>Adventure</th>\n",
       "      <th>Comedy</th>\n",
       "      <th>Action</th>\n",
       "      <th>Drama</th>\n",
       "      <th>Thriller</th>\n",
       "      <th>...</th>\n",
       "      <th>Children's</th>\n",
       "      <th>Documentary</th>\n",
       "      <th>Sci-Fi</th>\n",
       "      <th>Horror</th>\n",
       "      <th>Western</th>\n",
       "      <th>Mystery</th>\n",
       "      <th>Film-Noir</th>\n",
       "      <th>War</th>\n",
       "      <th>Fantasy</th>\n",
       "      <th>Musical</th>\n",
       "    </tr>\n",
       "  </thead>\n",
       "  <tbody>\n",
       "    <tr>\n",
       "      <th>0</th>\n",
       "      <td>One Flew Over the Cuckoo's Nest (1975)</td>\n",
       "      <td>Under 18</td>\n",
       "      <td>1193</td>\n",
       "      <td>Drama</td>\n",
       "      <td>0</td>\n",
       "      <td>0</td>\n",
       "      <td>0</td>\n",
       "      <td>0</td>\n",
       "      <td>1</td>\n",
       "      <td>0</td>\n",
       "      <td>...</td>\n",
       "      <td>0</td>\n",
       "      <td>0</td>\n",
       "      <td>0</td>\n",
       "      <td>0</td>\n",
       "      <td>0</td>\n",
       "      <td>0</td>\n",
       "      <td>0</td>\n",
       "      <td>0</td>\n",
       "      <td>0</td>\n",
       "      <td>0</td>\n",
       "    </tr>\n",
       "    <tr>\n",
       "      <th>1</th>\n",
       "      <td>James and the Giant Peach (1996)</td>\n",
       "      <td>Under 18</td>\n",
       "      <td>661</td>\n",
       "      <td>Animation|Children's|Musical</td>\n",
       "      <td>1</td>\n",
       "      <td>0</td>\n",
       "      <td>0</td>\n",
       "      <td>0</td>\n",
       "      <td>0</td>\n",
       "      <td>0</td>\n",
       "      <td>...</td>\n",
       "      <td>1</td>\n",
       "      <td>0</td>\n",
       "      <td>0</td>\n",
       "      <td>0</td>\n",
       "      <td>0</td>\n",
       "      <td>0</td>\n",
       "      <td>0</td>\n",
       "      <td>0</td>\n",
       "      <td>0</td>\n",
       "      <td>1</td>\n",
       "    </tr>\n",
       "  </tbody>\n",
       "</table>\n",
       "<p>2 rows × 22 columns</p>\n",
       "</div>"
      ],
      "text/plain": [
       "                                    Movie  AgeGroup  MovieID  \\\n",
       "0  One Flew Over the Cuckoo's Nest (1975)  Under 18     1193   \n",
       "1        James and the Giant Peach (1996)  Under 18      661   \n",
       "\n",
       "                          Genre  Animation  Adventure  Comedy  Action  Drama  \\\n",
       "0                         Drama          0          0       0       0      1   \n",
       "1  Animation|Children's|Musical          1          0       0       0      0   \n",
       "\n",
       "   Thriller   ...     Children's  Documentary  Sci-Fi  Horror  Western  \\\n",
       "0         0   ...              0            0       0       0        0   \n",
       "1         0   ...              1            0       0       0        0   \n",
       "\n",
       "   Mystery  Film-Noir  War  Fantasy  Musical  \n",
       "0        0          0    0        0        0  \n",
       "1        0          0    0        0        1  \n",
       "\n",
       "[2 rows x 22 columns]"
      ]
     },
     "execution_count": 18,
     "metadata": {},
     "output_type": "execute_result"
    }
   ],
   "source": [
    "# GETTING GENRE IN COLUMNS AND THEN MERGING AGEGROUP\n",
    "\n",
    "gen = [\"Animation\", \"Adventure\", \"Comedy\", \"Action\", \"Drama\", \"Thriller\", \"Crime\", \"Romance\", \"Children's\", \"Documentary\", \"Sci-Fi\", \"Horror\", \"Western\", \"Mystery\", \"Film-Noir\", \"War\", \"Fantasy\", \"Musical\"]\n",
    "mg = movie\n",
    "for x in range(0, len(gen)):\n",
    "    a = gen[x]\n",
    "    mg[a] = ''\n",
    "    for i in range(0,len(movie)):\n",
    "        if re.search(a ,mg.iloc[i,2]):\n",
    "            mg.iloc[i,3+x] = 1\n",
    "        else:\n",
    "            mg.iloc[i,3+x] = 0\n",
    "            \n",
    "a = rum2[['Movie', 'AgeGroup']]\n",
    "b = pd.DataFrame(a.merge(mg, how='left', on='Movie'))\n",
    "b.head(2)"
   ]
  },
  {
   "cell_type": "code",
   "execution_count": 19,
   "metadata": {},
   "outputs": [
    {
     "data": {
      "text/html": [
       "<div>\n",
       "<style scoped>\n",
       "    .dataframe tbody tr th:only-of-type {\n",
       "        vertical-align: middle;\n",
       "    }\n",
       "\n",
       "    .dataframe tbody tr th {\n",
       "        vertical-align: top;\n",
       "    }\n",
       "\n",
       "    .dataframe thead th {\n",
       "        text-align: right;\n",
       "    }\n",
       "</style>\n",
       "<table border=\"1\" class=\"dataframe\">\n",
       "  <thead>\n",
       "    <tr style=\"text-align: right;\">\n",
       "      <th>AgeGroup</th>\n",
       "      <th>18-24</th>\n",
       "      <th>25-34</th>\n",
       "      <th>35-44</th>\n",
       "      <th>45-49</th>\n",
       "      <th>50-55</th>\n",
       "      <th>56+</th>\n",
       "      <th>Under 18</th>\n",
       "    </tr>\n",
       "  </thead>\n",
       "  <tbody>\n",
       "    <tr>\n",
       "      <th>Animation</th>\n",
       "      <td>10269</td>\n",
       "      <td>16454</td>\n",
       "      <td>8117</td>\n",
       "      <td>2889</td>\n",
       "      <td>2032</td>\n",
       "      <td>1083</td>\n",
       "      <td>2449</td>\n",
       "    </tr>\n",
       "    <tr>\n",
       "      <th>Adventure</th>\n",
       "      <td>26324</td>\n",
       "      <td>52633</td>\n",
       "      <td>26682</td>\n",
       "      <td>10738</td>\n",
       "      <td>9090</td>\n",
       "      <td>4488</td>\n",
       "      <td>3998</td>\n",
       "    </tr>\n",
       "    <tr>\n",
       "      <th>Comedy</th>\n",
       "      <td>69980</td>\n",
       "      <td>143210</td>\n",
       "      <td>69244</td>\n",
       "      <td>27890</td>\n",
       "      <td>23133</td>\n",
       "      <td>11961</td>\n",
       "      <td>11162</td>\n",
       "    </tr>\n",
       "    <tr>\n",
       "      <th>Action</th>\n",
       "      <td>50186</td>\n",
       "      <td>105678</td>\n",
       "      <td>50503</td>\n",
       "      <td>19357</td>\n",
       "      <td>17012</td>\n",
       "      <td>8143</td>\n",
       "      <td>6578</td>\n",
       "    </tr>\n",
       "    <tr>\n",
       "      <th>Drama</th>\n",
       "      <td>58104</td>\n",
       "      <td>138695</td>\n",
       "      <td>71590</td>\n",
       "      <td>32141</td>\n",
       "      <td>29247</td>\n",
       "      <td>17269</td>\n",
       "      <td>7483</td>\n",
       "    </tr>\n",
       "    <tr>\n",
       "      <th>Thriller</th>\n",
       "      <td>35877</td>\n",
       "      <td>77429</td>\n",
       "      <td>36840</td>\n",
       "      <td>14933</td>\n",
       "      <td>13240</td>\n",
       "      <td>6537</td>\n",
       "      <td>4824</td>\n",
       "    </tr>\n",
       "    <tr>\n",
       "      <th>Crime</th>\n",
       "      <td>15373</td>\n",
       "      <td>33030</td>\n",
       "      <td>14895</td>\n",
       "      <td>6048</td>\n",
       "      <td>5520</td>\n",
       "      <td>2974</td>\n",
       "      <td>1701</td>\n",
       "    </tr>\n",
       "    <tr>\n",
       "      <th>Romance</th>\n",
       "      <td>25656</td>\n",
       "      <td>58003</td>\n",
       "      <td>29330</td>\n",
       "      <td>13283</td>\n",
       "      <td>11373</td>\n",
       "      <td>6279</td>\n",
       "      <td>3599</td>\n",
       "    </tr>\n",
       "    <tr>\n",
       "      <th>Children's</th>\n",
       "      <td>16924</td>\n",
       "      <td>25743</td>\n",
       "      <td>14004</td>\n",
       "      <td>5400</td>\n",
       "      <td>3890</td>\n",
       "      <td>1888</td>\n",
       "      <td>4337</td>\n",
       "    </tr>\n",
       "    <tr>\n",
       "      <th>Documentary</th>\n",
       "      <td>1081</td>\n",
       "      <td>3489</td>\n",
       "      <td>1708</td>\n",
       "      <td>687</td>\n",
       "      <td>555</td>\n",
       "      <td>260</td>\n",
       "      <td>130</td>\n",
       "    </tr>\n",
       "    <tr>\n",
       "      <th>Sci-Fi</th>\n",
       "      <td>29033</td>\n",
       "      <td>63156</td>\n",
       "      <td>32333</td>\n",
       "      <td>13040</td>\n",
       "      <td>10674</td>\n",
       "      <td>4880</td>\n",
       "      <td>4178</td>\n",
       "    </tr>\n",
       "    <tr>\n",
       "      <th>Horror</th>\n",
       "      <td>15184</td>\n",
       "      <td>31235</td>\n",
       "      <td>15122</td>\n",
       "      <td>6192</td>\n",
       "      <td>4681</td>\n",
       "      <td>1761</td>\n",
       "      <td>2211</td>\n",
       "    </tr>\n",
       "    <tr>\n",
       "      <th>Western</th>\n",
       "      <td>2863</td>\n",
       "      <td>7053</td>\n",
       "      <td>4546</td>\n",
       "      <td>2133</td>\n",
       "      <td>2420</td>\n",
       "      <td>1333</td>\n",
       "      <td>335</td>\n",
       "    </tr>\n",
       "    <tr>\n",
       "      <th>Mystery</th>\n",
       "      <td>6401</td>\n",
       "      <td>15160</td>\n",
       "      <td>8179</td>\n",
       "      <td>3851</td>\n",
       "      <td>3520</td>\n",
       "      <td>2147</td>\n",
       "      <td>920</td>\n",
       "    </tr>\n",
       "    <tr>\n",
       "      <th>Film-Noir</th>\n",
       "      <td>2280</td>\n",
       "      <td>6539</td>\n",
       "      <td>4175</td>\n",
       "      <td>1860</td>\n",
       "      <td>1870</td>\n",
       "      <td>1207</td>\n",
       "      <td>330</td>\n",
       "    </tr>\n",
       "    <tr>\n",
       "      <th>War</th>\n",
       "      <td>10874</td>\n",
       "      <td>24830</td>\n",
       "      <td>14514</td>\n",
       "      <td>6642</td>\n",
       "      <td>6314</td>\n",
       "      <td>3775</td>\n",
       "      <td>1578</td>\n",
       "    </tr>\n",
       "    <tr>\n",
       "      <th>Fantasy</th>\n",
       "      <td>7875</td>\n",
       "      <td>14290</td>\n",
       "      <td>7006</td>\n",
       "      <td>2695</td>\n",
       "      <td>2127</td>\n",
       "      <td>948</td>\n",
       "      <td>1360</td>\n",
       "    </tr>\n",
       "    <tr>\n",
       "      <th>Musical</th>\n",
       "      <td>7555</td>\n",
       "      <td>14705</td>\n",
       "      <td>8746</td>\n",
       "      <td>3898</td>\n",
       "      <td>3093</td>\n",
       "      <td>1889</td>\n",
       "      <td>1647</td>\n",
       "    </tr>\n",
       "  </tbody>\n",
       "</table>\n",
       "</div>"
      ],
      "text/plain": [
       "AgeGroup     18-24   25-34  35-44  45-49  50-55    56+  Under 18\n",
       "Animation    10269   16454   8117   2889   2032   1083      2449\n",
       "Adventure    26324   52633  26682  10738   9090   4488      3998\n",
       "Comedy       69980  143210  69244  27890  23133  11961     11162\n",
       "Action       50186  105678  50503  19357  17012   8143      6578\n",
       "Drama        58104  138695  71590  32141  29247  17269      7483\n",
       "Thriller     35877   77429  36840  14933  13240   6537      4824\n",
       "Crime        15373   33030  14895   6048   5520   2974      1701\n",
       "Romance      25656   58003  29330  13283  11373   6279      3599\n",
       "Children's   16924   25743  14004   5400   3890   1888      4337\n",
       "Documentary   1081    3489   1708    687    555    260       130\n",
       "Sci-Fi       29033   63156  32333  13040  10674   4880      4178\n",
       "Horror       15184   31235  15122   6192   4681   1761      2211\n",
       "Western       2863    7053   4546   2133   2420   1333       335\n",
       "Mystery       6401   15160   8179   3851   3520   2147       920\n",
       "Film-Noir     2280    6539   4175   1860   1870   1207       330\n",
       "War          10874   24830  14514   6642   6314   3775      1578\n",
       "Fantasy       7875   14290   7006   2695   2127    948      1360\n",
       "Musical       7555   14705   8746   3898   3093   1889      1647"
      ]
     },
     "execution_count": 19,
     "metadata": {},
     "output_type": "execute_result"
    }
   ],
   "source": [
    "l = pd.DataFrame(b.groupby('AgeGroup')['Animation'].sum()).pivot_table('Animation', columns='AgeGroup')\n",
    "m = pd.DataFrame(b.groupby('AgeGroup')['Adventure'].sum()).pivot_table('Adventure', columns='AgeGroup')\n",
    "n = pd.DataFrame(b.groupby('AgeGroup')['Comedy'].sum()).pivot_table('Comedy', columns='AgeGroup')\n",
    "o = pd.DataFrame(b.groupby('AgeGroup')['Action'].sum()).pivot_table('Action', columns='AgeGroup')\n",
    "p = pd.DataFrame(b.groupby('AgeGroup')['Drama'].sum()).pivot_table('Drama', columns='AgeGroup')\n",
    "q = pd.DataFrame(b.groupby('AgeGroup')['Thriller'].sum()).pivot_table('Thriller', columns='AgeGroup')\n",
    "r = pd.DataFrame(b.groupby('AgeGroup')['Crime'].sum()).pivot_table('Crime', columns='AgeGroup')\n",
    "s = pd.DataFrame(b.groupby('AgeGroup')['Romance'].sum()).pivot_table('Romance', columns='AgeGroup')\n",
    "t = pd.DataFrame(b.groupby('AgeGroup')[\"Children's\"].sum()).pivot_table(\"Children's\", columns='AgeGroup')\n",
    "u = pd.DataFrame(b.groupby('AgeGroup')['Documentary'].sum()).pivot_table('Documentary', columns='AgeGroup')\n",
    "v = pd.DataFrame(b.groupby('AgeGroup')['Sci-Fi'].sum()).pivot_table('Sci-Fi', columns='AgeGroup')\n",
    "w = pd.DataFrame(b.groupby('AgeGroup')['Horror'].sum()).pivot_table('Horror', columns='AgeGroup')\n",
    "x = pd.DataFrame(b.groupby('AgeGroup')['Western'].sum()).pivot_table('Western', columns='AgeGroup')\n",
    "y = pd.DataFrame(b.groupby('AgeGroup')['Mystery'].sum()).pivot_table('Mystery', columns='AgeGroup')\n",
    "z = pd.DataFrame(b.groupby('AgeGroup')['Film-Noir'].sum()).pivot_table('Film-Noir', columns='AgeGroup')\n",
    "za = pd.DataFrame(b.groupby('AgeGroup')['War'].sum()).pivot_table('War', columns='AgeGroup')\n",
    "zb = pd.DataFrame(b.groupby('AgeGroup')['Fantasy'].sum()).pivot_table('Fantasy', columns='AgeGroup')\n",
    "zc = pd.DataFrame(b.groupby('AgeGroup')['Musical'].sum()).pivot_table('Musical', columns='AgeGroup')\n",
    "\n",
    "matrixcnt = l.append(m).append(n).append(o).append(p).append(q).append(r).append(s).append(t).append(u).append(v).append(w).append(x).append(y).append(z).append(za).append(zb).append(zc)\n",
    "\n",
    "matrixcnt"
   ]
  },
  {
   "cell_type": "code",
   "execution_count": 20,
   "metadata": {},
   "outputs": [
    {
     "data": {
      "text/plain": [
       "<matplotlib.axes._subplots.AxesSubplot at 0x1b107b43080>"
      ]
     },
     "execution_count": 20,
     "metadata": {},
     "output_type": "execute_result"
    },
    {
     "data": {
      "image/png": "[encoded data removed]",
      "text/plain": [
       "<Figure size 432x288 with 2 Axes>"
      ]
     },
     "metadata": {
      "needs_background": "light"
     },
     "output_type": "display_data"
    }
   ],
   "source": [
    "sns.heatmap(matrixcnt)"
   ]
  }
 ],
 "metadata": {
  "kernelspec": {
   "display_name": "Python 3",
   "language": "python",
   "name": "python3"
  },
  "language_info": {
   "codemirror_mode": {
    "name": "ipython",
    "version": 3
   },
   "file_extension": ".py",
   "mimetype": "text/x-python",
   "name": "python",
   "nbconvert_exporter": "python",
   "pygments_lexer": "ipython3",
   "version": "3.7.1"
  }
 },
 "nbformat": 4,
 "nbformat_minor": 2
}
